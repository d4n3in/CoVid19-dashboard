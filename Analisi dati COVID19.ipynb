{
 "cells": [
  {
   "cell_type": "code",
   "execution_count": 95,
   "metadata": {},
   "outputs": [],
   "source": [
    "import json,urllib.request\n",
    "import dload\n",
    "import pandas as pd\n",
    "\n",
    "import networkx as nx\n",
    "import numpy as np\n",
    "import matplotlib\n",
    "import matplotlib.pyplot as plt\n",
    "import matplotlib.colors as colors\n",
    "import warnings\n",
    "import mpld3\n",
    "\n",
    "from scipy.optimize import curve_fit\n",
    "\n",
    "\n",
    "def exp_fit_plot(y):\n",
    "    N=len(y)\n",
    "    x = np.linspace(0, 1, num = N)     # Column values as a function of depth\n",
    "    \n",
    "\n",
    "    plt.plot(x, y, 'ro',label=\"Original Data\")\n",
    "\n",
    "    def func(x, I0, k):     # a = I0, b = k\n",
    "        return I0 * np.exp(k*x)    \n",
    "\n",
    "    popt, pcov = curve_fit(func, x, y,method='lm')\n",
    "\n",
    "    print (\"I(0) = %s , k = %s\" % (popt[0], popt[1]))\n",
    "\n",
    "    plt.plot(x, func(x, *popt), label=\"Fitted Curve\")\n",
    "    return popt[1]\n",
    "\n",
    "def log_fit_plot(y):\n",
    "    N=len(y)\n",
    "    x = np.linspace(0, 1, num = N)     # Column values as a function of depth\n",
    "    \n",
    "\n",
    "    plt.plot(x, y, 'ro',label=\"Original Data\")\n",
    "    N0=y[0]\n",
    "    def func(x, N0, k,r):     # a = I0, b = k\n",
    "        return (k*N0)/(N0+(k-N0)*np.exp(-r*x))     \n",
    "\n",
    "    popt, pcov = curve_fit(func, x, y,method='lm')\n",
    "\n",
    "    print (\"N0=%s, k = %s , r = %s\" % (popt[0], popt[1],popt[2]))\n",
    "\n",
    "    plt.plot(x, func(x, *popt), label=\"Fitted Curve\")\n",
    "    #return popt\n",
    "\n",
    "def exp_fit(y):\n",
    "    N=len(y)\n",
    "    x = np.linspace(0, 1, num = N)     # Column values as a function of depth\n",
    "\n",
    "\n",
    "    def func(x, I0, k):     # a = I0, b = k\n",
    "        return I0 * np.exp(k*x)    \n",
    "\n",
    "    popt, pcov = curve_fit(func, x, y)\n",
    "\n",
    "    return popt[1]\n",
    "\n",
    "\n",
    "def log_fit(y):\n",
    "    N=len(y)\n",
    "    x = np.linspace(0, 1, num = N)     # Column values as a function of depth\n",
    "    \n",
    "    N0=y[0]\n",
    "    def func(x, N0, k,r):     # a = I0, b = k\n",
    "        return (k*N0)/(N0+(k-N0)*np.exp(-r*x))     \n",
    "    try:\n",
    "        popt, pcov = curve_fit(func, x, y,method='lm')\n",
    "    except:\n",
    "        popt=[0.0, 0.0, 0.0]\n",
    "        pass\n",
    "    \n",
    "    return popt\n",
    "\n",
    "def log_fun(x, N0, k,r):     # a = I0, b = k\n",
    "        return (k*N0)/(N0+(k-N0)*np.exp(-r*x)) "
   ]
  },
  {
   "cell_type": "markdown",
   "metadata": {},
   "source": [
    "## Analisi dati Nazionali"
   ]
  },
  {
   "cell_type": "code",
   "execution_count": 149,
   "metadata": {
    "scrolled": true
   },
   "outputs": [],
   "source": [
    "url='https://raw.githubusercontent.com/pcm-dpc/COVID-19/master/dati-json/dpc-covid19-ita-andamento-nazionale.json'\n",
    "j = dload.json(url)\n",
    "df=pd.DataFrame.from_dict(j)\n",
    "\n",
    "#\"ricoverati_con_sintomi\"\n",
    "#\"terapia_intensiva\"\n",
    "#\"totale_ospedalizzati\"\n",
    "#\"isolamento_domiciliare\"\n",
    "#\"totale_attualmente_positivi\"\n",
    "#\"nuovi_attualmente_positivi\"\n",
    "#\"dimessi_guariti\"\n",
    "#\"deceduti\"\n",
    "#\"totale_casi\"\n",
    "#\"tamponi\"\n",
    "\n",
    "\n",
    "VAR='totale_casi'\n",
    "#df.set_index(pd.to_datetime(df.data), drop=True).plot(legend=False, logy=True, figsize=(15,10))\n",
    "y=df[VAR]\n",
    "log_fit_plot(y)\n"
   ]
  },
  {
   "cell_type": "code",
   "execution_count": null,
   "metadata": {},
   "outputs": [],
   "source": []
  },
  {
   "cell_type": "markdown",
   "metadata": {},
   "source": [
    "## Analisi dati provinciali"
   ]
  },
  {
   "cell_type": "code",
   "execution_count": 139,
   "metadata": {},
   "outputs": [],
   "source": [
    "url='https://raw.githubusercontent.com/pcm-dpc/COVID-19/master/dati-json/dpc-covid19-ita-province.json'\n",
    "j = dload.json(url)\n",
    "df=pd.DataFrame.from_dict(j)\n",
    "df = df[df.denominazione_provincia != 'In fase di definizione/aggiornamento'] #elimino i dati in corso di validazione\n",
    "\n",
    "date=df.data.unique()\n",
    "province=df.denominazione_provincia.unique()\n",
    "\n",
    "#variabile che si vuole visualizzare\n",
    "VAR='totale_casi'\n",
    "\n",
    "#Metto le province sulle colonne\n",
    "casi_p=pd.DataFrame(date, columns=['data'])\n",
    "for p in province:\n",
    "    df_p=df[df.denominazione_provincia == p]\n",
    "    casi=pd.DataFrame(list(df_p[VAR]),columns=[p])\n",
    "    casi_p= pd.concat([casi_p, casi], axis=1)"
   ]
  },
  {
   "cell_type": "code",
   "execution_count": 176,
   "metadata": {},
   "outputs": [],
   "source": [
    "##Plotto tutto in loglog\n",
    "#https://pandas.pydata.org/pandas-docs/version/0.22.0/generated/pandas.DataFrame.plot.html\n",
    "#casi_p.set_index(pd.to_datetime(casi_p.data), drop=True).plot(legend=False, logy=True, figsize=(15,10))\n",
    "    "
   ]
  },
  {
   "cell_type": "markdown",
   "metadata": {},
   "source": [
    "### Fit di una provincia specifica"
   ]
  },
  {
   "cell_type": "code",
   "execution_count": 150,
   "metadata": {},
   "outputs": [],
   "source": [
    "log_fit_plot(casi_p['Alessandria'])"
   ]
  },
  {
   "cell_type": "markdown",
   "metadata": {},
   "source": [
    "## Fit del modello logistico sui dati provinciali"
   ]
  },
  {
   "cell_type": "code",
   "execution_count": 158,
   "metadata": {},
   "outputs": [],
   "source": [
    "K=[]\n",
    "for p in province:\n",
    "    y=casi_p[p]\n",
    "    y=y[0:-1]\n",
    "    fit=log_fit(y)\n",
    "    #N0->fit[0]; k=fit[1] r= fit[2]\n",
    "    K.append(fit[2])\n",
    "K=pd.DataFrame(K, columns=['K_exp'])\n",
    "P=pd.DataFrame(province, columns=['province'])\n",
    "exp_data=pd.merge(P,K, left_index=True, right_index=True)"
   ]
  },
  {
   "cell_type": "code",
   "execution_count": 151,
   "metadata": {
    "scrolled": true
   },
   "outputs": [],
   "source": [
    "#Istogramma dei K\n",
    "K.hist(bins=15)"
   ]
  },
  {
   "cell_type": "markdown",
   "metadata": {},
   "source": [
    "### Mappa per province del valore selezionato del modello logistico"
   ]
  },
  {
   "cell_type": "code",
   "execution_count": null,
   "metadata": {},
   "outputs": [],
   "source": [
    "fig = px.choropleth(exp_data, geojson=geo_prov, locations='province', color='K_exp',\n",
    "                           color_continuous_scale=\"Reds\",\n",
    "                           #range_color=(0, 12),\n",
    "                           featureidkey='properties.NOME_PRO',\n",
    "                           projection='mercator',\n",
    "                           labels={'numero_casi':'Numero di Casi'}             \n",
    "                          )\n",
    "fig.update_geos(fitbounds=\"locations\", visible=False)\n",
    "fig.update_layout(margin={\"r\":0,\"t\":0,\"l\":0,\"b\":0})\n",
    "fig.show()"
   ]
  },
  {
   "cell_type": "markdown",
   "metadata": {},
   "source": [
    "### Mappa dei casi totali per provincia"
   ]
  },
  {
   "cell_type": "code",
   "execution_count": 145,
   "metadata": {},
   "outputs": [],
   "source": [
    "import plotly.express as px\n",
    "import geojson\n",
    "import json\n",
    "\n",
    "#Importo i profili delle province\n",
    "with open('province.geojson',encoding='utf-8', errors='ignore') as json_data:\n",
    "     geo_prov = json.load(json_data, strict=False)\n",
    "\n",
    "VAR='numero_casi'\n",
    "N=len(casi_p_t.columns)-1\n",
    "casi_p_t=casi_p.transpose()\n",
    "df2=pd.DataFrame(casi_p_t[N])\n",
    "df2=df2.drop('data', axis=0)\n",
    "df2.columns=[VAR]\n",
    "df2=df2.astype({VAR: 'int64'})\n"
   ]
  },
  {
   "cell_type": "code",
   "execution_count": null,
   "metadata": {},
   "outputs": [],
   "source": []
  },
  {
   "cell_type": "code",
   "execution_count": null,
   "metadata": {
    "scrolled": false
   },
   "outputs": [],
   "source": [
    "fig = px.choropleth(df2, geojson=geo_prov, locations=df2.index, color=VAR,\n",
    "                           color_continuous_scale=\"Reds\",\n",
    "                           #range_color=(0, 12),\n",
    "                           featureidkey='properties.NOME_PRO',\n",
    "                           projection='mercator',\n",
    "                           labels={'numero_casi':'Numero di Casi'}\n",
    "                    \n",
    "                          )\n",
    "fig.update_geos(fitbounds=\"locations\", visible=False)\n",
    "fig.update_layout(margin={\"r\":0,\"t\":0,\"l\":0,\"b\":0})\n",
    "fig.show()"
   ]
  },
  {
   "cell_type": "markdown",
   "metadata": {},
   "source": [
    "## Mappa delle variazioni percentuali per provincia"
   ]
  },
  {
   "cell_type": "code",
   "execution_count": 153,
   "metadata": {},
   "outputs": [],
   "source": [
    "df3=pd.DataFrame([casi_p_t[N-1],casi_p_t[N]])\n",
    "df3=df3.drop('data', axis=1)\n",
    "df3.iloc[0].apply(int)\n",
    "df3.iloc[1].apply(int)\n",
    "df3.loc['delta']=100.0*((df3.iloc[1]-df3.iloc[0])/df3.iloc[0])\n",
    "df3=df3.T\n",
    "\n",
    "fig = px.choropleth(df3, geojson=geo_prov, locations=df3.index, color='delta',\n",
    "                           color_continuous_scale=\"Reds\",\n",
    "                           #range_color=(0, 12),\n",
    "                           featureidkey='properties.NOME_PRO',\n",
    "                           projection='mercator',\n",
    "                           labels={'numero_casi':'Numero di Casi'}\n",
    "                    \n",
    "                          )\n",
    "fig.update_geos(fitbounds=\"locations\", visible=False)\n",
    "fig.update_layout(margin={\"r\":0,\"t\":0,\"l\":0,\"b\":0})\n",
    "fig.show()"
   ]
  },
  {
   "cell_type": "code",
   "execution_count": null,
   "metadata": {},
   "outputs": [],
   "source": [
    "df3['delta'].hist(bins=15)"
   ]
  },
  {
   "cell_type": "code",
   "execution_count": null,
   "metadata": {},
   "outputs": [],
   "source": []
  },
  {
   "cell_type": "code",
   "execution_count": null,
   "metadata": {},
   "outputs": [],
   "source": []
  },
  {
   "cell_type": "markdown",
   "metadata": {},
   "source": [
    "## Analisi Regionale"
   ]
  },
  {
   "cell_type": "code",
   "execution_count": 142,
   "metadata": {},
   "outputs": [],
   "source": [
    "import plotly.express as px\n",
    "import geojson\n",
    "import json## Analisi dati regionali\n",
    "\n",
    "\n",
    "url='https://raw.githubusercontent.com/pcm-dpc/COVID-19/master/dati-json/dpc-covid19-ita-regioni.json'\n",
    "j = dload.json(url)\n",
    "df_r=pd.DataFrame.from_dict(j)\n",
    "\n",
    "date=df_r.data.unique()\n",
    "regioni=df_r.denominazione_regione.unique()\n",
    "\n",
    "casi_r=pd.DataFrame(date, columns=['data'])\n",
    "\n",
    "#\"ricoverati_con_sintomi\"\n",
    "#\"terapia_intensiva\"\n",
    "#\"totale_ospedalizzati\"\n",
    "#\"isolamento_domiciliare\"\n",
    "#\"totale_attualmente_positivi\"\n",
    "#\"nuovi_attualmente_positivi\"\n",
    "#\"dimessi_guariti\"\n",
    "#\"deceduti\"\n",
    "#\"totale_casi\"\n",
    "#\"tamponi\"\n",
    "\n",
    "for r in regioni:\n",
    "    df_temp=df_r[df_r.denominazione_regione == r]\n",
    "    casi=pd.DataFrame(list(df_temp[VAR]),columns=[r])\n",
    "    casi_r= pd.concat([casi_r, casi], axis=1)\n",
    "\n",
    "\n",
    "#I dati sul Trentino sono separati in due province\n",
    "#Questo non torna con lo shapefile. Unisco le due regioni\n",
    "sum_column = casi_r[\"P.A. Bolzano\"] + casi_r[\"P.A. Trento\"]\n",
    "casi_r[\"Trentino-Alto Adige\"] = sum_column  \n",
    "\n",
    "VAR='deceduti'\n",
    "   \n",
    "#Importo i profili delle province\n",
    "with open('regioni.geojson',encoding='utf-8', errors='ignore') as json_data:\n",
    "     geo_reg = json.load(json_data, strict=False)\n",
    "\n",
    "L=len(casi_r)-1\n",
    "casi_r_t=casi_r.transpose()\n",
    "dfR=pd.DataFrame(casi_r_t[L])\n",
    "dfR=dfR[dfR.index !='data']\n",
    "dfR.columns=[VAR]\n",
    "dfR=dfR.astype({VAR: 'int64'})\n"
   ]
  },
  {
   "cell_type": "code",
   "execution_count": 154,
   "metadata": {},
   "outputs": [],
   "source": [
    "import plotly.express as px\n",
    "\n",
    "#reg= pd.read_excel('prova_regioni.xlsx', sheet_name=0)\n",
    "\n",
    "fig = px.choropleth(dfR, geojson=geo_reg, locations=dfR.index, color=VAR,\n",
    "                           color_continuous_scale=\"Reds\",\n",
    "                           featureidkey='properties.NOME_REG',\n",
    "                           projection='mercator',\n",
    "                           scope='europe'\n",
    "                           #labels={'numero_casi':'Numero di Casi'}\n",
    "                          )\n",
    "fig.update_geos(fitbounds=\"locations\", visible=False)\n",
    "fig.update_layout(margin={\"r\":0,\"t\":0,\"l\":0,\"b\":0})\n",
    "fig.show()\n"
   ]
  },
  {
   "cell_type": "markdown",
   "metadata": {},
   "source": [
    "## Mappa con i fit logistici delle regioni"
   ]
  },
  {
   "cell_type": "code",
   "execution_count": 246,
   "metadata": {
    "scrolled": true
   },
   "outputs": [],
   "source": [
    "K=[]\n",
    "regioni=casi_r.columns\n",
    "regioni.drop('data')\n",
    "for r in regioni:\n",
    "    y=casi_r[r]\n",
    "    y=y[0:-1]\n",
    "    fit=log_fit(y)\n",
    "    #N0->fit[0]; k=fit[1] r= fit[2]\n",
    "    K.append(fit[1])\n",
    "K=pd.DataFrame(K, columns=['K_exp'])\n",
    "P=pd.DataFrame(regioni, columns=['regione'])\n",
    "exp_data=pd.merge(P,K, left_index=True, right_index=True)\n"
   ]
  },
  {
   "cell_type": "code",
   "execution_count": null,
   "metadata": {
    "scrolled": false
   },
   "outputs": [],
   "source": [
    "\n",
    "fig = px.choropleth(exp_data, geojson=geo_reg, locations=exp_data['regione'], color='K_exp',\n",
    "                           color_continuous_scale=\"Reds\",\n",
    "                           featureidkey='properties.NOME_REG',\n",
    "                           projection='mercator',\n",
    "                           scope='europe'\n",
    "                           #labels={'numero_casi':'Numero di Casi'}\n",
    "                          )\n",
    "fig.update_geos(fitbounds=\"locations\", visible=False)\n",
    "fig.update_layout(margin={\"r\":0,\"t\":0,\"l\":0,\"b\":0})\n",
    "fig.show()"
   ]
  }
 ],
 "metadata": {
  "kernelspec": {
   "display_name": "Python 3",
   "language": "python",
   "name": "python3"
  },
  "language_info": {
   "codemirror_mode": {
    "name": "ipython",
    "version": 3
   },
   "file_extension": ".py",
   "mimetype": "text/x-python",
   "name": "python",
   "nbconvert_exporter": "python",
   "pygments_lexer": "ipython3",
   "version": "3.7.4"
  }
 },
 "nbformat": 4,
 "nbformat_minor": 2
}
